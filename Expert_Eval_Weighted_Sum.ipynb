{
  "cells": [
    {
      "cell_type": "markdown",
      "metadata": {
        "id": "view-in-github",
        "colab_type": "text"
      },
      "source": [
        "<a href=\"https://colab.research.google.com/github/lxbuzz/DataAnalysis/blob/main/Expert_Eval_Weighted_Sum.ipynb\" target=\"_parent\"><img src=\"https://colab.research.google.com/assets/colab-badge.svg\" alt=\"Open In Colab\"/></a>"
      ]
    },
    {
      "cell_type": "markdown",
      "source": [
        "Enterprise \"XYZ\" intends to open new retail branches in some of Ukraine cities. Using the data in Table 1 and the “add-on rank model”, determine which options for affiliate placement would be the best.\n"
      ],
      "metadata": {
        "id": "IR7ltaKzToi5"
      }
    },
    {
      "cell_type": "markdown",
      "source": [
        "Importing data drom Google Sheets"
      ],
      "metadata": {
        "id": "nGT3cv13azTr"
      }
    },
    {
      "source": [
        "#!pip install --upgrade google-api-python-client google-auth-httplib2 google-auth-oauthlib pandas pygsheets\n",
        "from google.colab import auth\n",
        "auth.authenticate_user()\n",
        "import gspread\n",
        "from google.auth import default\n",
        "creds, _ = default()\n",
        "gc = gspread.authorize(creds)\n",
        "sh = gc.open('T2')\n",
        "worksheet = sh.worksheet('Table 1')\n",
        "data = worksheet.get_all_values()\n",
        "import pandas as pd\n",
        "df = pd.DataFrame(data[1:], columns=data[0])\n",
        "#print(df.head(10))\n",
        "\n",
        "print(df.head(10).to_markdown(index=False, numalign=\"left\", stralign=\"left\"))\n",
        "\n",
        "# Print the column names and their data types\n",
        "print(df.info())"
      ],
      "cell_type": "code",
      "metadata": {
        "colab": {
          "base_uri": "https://localhost:8080/"
        },
        "id": "tiIVMas1a0IO",
        "outputId": "77c93dbf-ac1c-4398-9a40-cc57ee5c03e9"
      },
      "execution_count": null,
      "outputs": [
        {
          "output_type": "stream",
          "name": "stdout",
          "text": [
            "| Factor                | A            | B            | C         | D            | E            | F         | Weight   |\n",
            "|:----------------------|:-------------|:-------------|:----------|:-------------|:-------------|:----------|:---------|\n",
            "| Quality of life       | Perfect      | Satisfactory | Good      | Very good    | Very good    | Good      | 25       |\n",
            "| Labor relations       | Good         | Satisfactory | Perfect   | Perfect      | Good         | Very good | 10       |\n",
            "| State support         | Very good    | Good         | Bad       | Satisfactory | Bad          | Very good | 10       |\n",
            "| School systems        | Satisfactory | Perfect      | Good      | Bad          | Satisfactory | Bad       | 10       |\n",
            "| Distance to consumers | Very good    | Perfect      | Very good | Good         | Satisfactory | Perfect   | 15       |\n",
            "| Distance to suppliers | Bad          | Good         | Very good | Perfect      | Very good    | Good      | 10       |\n",
            "| Investment funds      | 110000       | 120000       | 130000    | 140000       | 105000       | 100000    | 20       |\n",
            "<class 'pandas.core.frame.DataFrame'>\n",
            "RangeIndex: 7 entries, 0 to 6\n",
            "Data columns (total 8 columns):\n",
            " #   Column  Non-Null Count  Dtype \n",
            "---  ------  --------------  ----- \n",
            " 0   Factor  7 non-null      object\n",
            " 1   A       7 non-null      object\n",
            " 2   B       7 non-null      object\n",
            " 3   C       7 non-null      object\n",
            " 4   D       7 non-null      object\n",
            " 5   E       7 non-null      object\n",
            " 6   F       7 non-null      object\n",
            " 7   Weight  7 non-null      object\n",
            "dtypes: object(8)\n",
            "memory usage: 580.0+ bytes\n",
            "None\n"
          ]
        }
      ]
    },
    {
      "cell_type": "code",
      "source": [],
      "metadata": {
        "id": "VuUeK9G2UOC8"
      },
      "execution_count": null,
      "outputs": []
    },
    {
      "cell_type": "markdown",
      "source": [],
      "metadata": {
        "id": "wCw95zHtayC0"
      }
    },
    {
      "cell_type": "code",
      "source": [
        "\n",
        "# Remove the first row\n",
        "#df = df.iloc[1:].copy()\n",
        "\n",
        "# Remove the last row\n",
        "#df = df.iloc[:-1].copy()\n",
        "\n",
        "# Remove the last column\n",
        "#df = df.iloc[:,:-1].copy()\n",
        "\n",
        "# Rename the `Weight` column to `weight`\n",
        "df = df.rename(columns={'Weight': 'weight'})\n",
        "df['weight'] = df['weight'].apply(pd.to_numeric, errors='coerce')\n",
        "#print(df.head\n",
        "#backup Invest numerical\n",
        "\n",
        "#mask = df['Factor'] == 'Investment funds'\n",
        "#selected_row = df.loc[mask]\n",
        "#print (selected_row)\n",
        "\n",
        "# Reset the index\n",
        "df = df.reset_index(drop=True)\n",
        "\n",
        "# Create a dictionary of dictionaries to map the qualitative values to numerical scores\n",
        "qualitative_values = {\n",
        "    'A': {'Bad': 2, 'Satisfactory': 4, 'Good': 6, 'Very good': 8, 'Perfect': 10,'100000': 10, '105000': 9,'110000': 8, '120000': 6, '130000':4 , '140000':2 },\n",
        "    'B': {'Bad': 2, 'Satisfactory': 4, 'Good': 6, 'Very good': 8, 'Perfect': 10,'100000': 10, '105000': 9,'110000': 8, '120000': 6, '130000':4 , '140000':2 },\n",
        "    'C': {'Bad': 2, 'Satisfactory': 4, 'Good': 6, 'Very good': 8, 'Perfect': 10,'100000': 10, '105000': 9,'110000': 8, '120000': 6, '130000':4 , '140000':2 },\n",
        "    'D': {'Bad': 2, 'Satisfactory': 4, 'Good': 6, 'Very good': 8, 'Perfect': 10,'100000': 10, '105000': 9,'110000': 8, '120000': 6, '130000':4 , '140000':2 },\n",
        "    'E': {'Bad': 2, 'Satisfactory': 4, 'Good': 6, 'Very good': 8, 'Perfect': 10,'100000': 10, '105000': 9,'110000': 8, '120000': 6, '130000':4 , '140000':2 },\n",
        "    'F': {'Bad': 2, 'Satisfactory': 4, 'Good': 6, 'Very good': 8, 'Perfect': 10,'100000': 10, '105000': 9,'110000': 8, '120000': 6, '130000':4 , '140000':2 },\n",
        "}\n",
        "\n",
        "# Convert the qualitative values to numerical scores\n",
        "for key, values in qualitative_values.items():\n",
        "    df[key] = df[key].map(values)\n",
        "\n",
        "#df.loc[mask]=selected_row\n",
        "#df[mask] = df[mask].apply(pd.to_numeric, errors='ignore')\n",
        "#qualitative_cols = ['A', 'B', 'C', 'D', 'E', 'F']\n",
        "\n",
        "\n",
        "# Display the first 5 rows\n",
        "print(df.head(10).to_markdown(index=False, numalign=\"left\", stralign=\"left\"))\n",
        "\n",
        "# Print the column names and their data types\n",
        "print(df.info())"
      ],
      "outputs": [
        {
          "output_type": "stream",
          "name": "stdout",
          "text": [
            "| Factor                | A   | B   | C   | D   | E   | F   | weight   |\n",
            "|:----------------------|:----|:----|:----|:----|:----|:----|:---------|\n",
            "| Quality of life       | 10  | 4   | 6   | 8   | 8   | 6   | 25       |\n",
            "| Labor relations       | 6   | 4   | 10  | 10  | 6   | 8   | 10       |\n",
            "| State support         | 8   | 6   | 2   | 4   | 2   | 8   | 10       |\n",
            "| School systems        | 4   | 10  | 6   | 2   | 4   | 2   | 10       |\n",
            "| Distance to consumers | 8   | 10  | 8   | 6   | 4   | 10  | 15       |\n",
            "| Distance to suppliers | 2   | 6   | 8   | 10  | 8   | 6   | 10       |\n",
            "| Investment funds      | 8   | 6   | 4   | 2   | 9   | 10  | 20       |\n",
            "<class 'pandas.core.frame.DataFrame'>\n",
            "RangeIndex: 7 entries, 0 to 6\n",
            "Data columns (total 8 columns):\n",
            " #   Column  Non-Null Count  Dtype \n",
            "---  ------  --------------  ----- \n",
            " 0   Factor  7 non-null      object\n",
            " 1   A       7 non-null      int64 \n",
            " 2   B       7 non-null      int64 \n",
            " 3   C       7 non-null      int64 \n",
            " 4   D       7 non-null      int64 \n",
            " 5   E       7 non-null      int64 \n",
            " 6   F       7 non-null      int64 \n",
            " 7   weight  7 non-null      int64 \n",
            "dtypes: int64(7), object(1)\n",
            "memory usage: 580.0+ bytes\n",
            "None\n"
          ]
        }
      ],
      "execution_count": null,
      "metadata": {
        "colab": {
          "base_uri": "https://localhost:8080/"
        },
        "id": "I0tfy62CYVoF",
        "outputId": "eaada885-ecb1-4ff1-e13f-03f5396b5743"
      }
    },
    {
      "cell_type": "code",
      "source": [
        "# prompt: please write a code writing df into google sheet new worksheet\n",
        "\n",
        "# ... (Your existing code)\n",
        "\n",
        "# Create a new worksheet\n",
        "new_worksheet = sh.add_worksheet(title=\"Processed_Data\", rows=\"100\", cols=\"20\")\n",
        "\n",
        "# Write the DataFrame to the new worksheet\n",
        "new_worksheet.update([df.columns.values.tolist()] + df.values.tolist())\n"
      ],
      "metadata": {
        "colab": {
          "base_uri": "https://localhost:8080/"
        },
        "id": "0lprMsg5A_Nh",
        "outputId": "4719d453-9897-46f2-e897-1d1248f8d6ff"
      },
      "execution_count": null,
      "outputs": [
        {
          "output_type": "execute_result",
          "data": {
            "text/plain": [
              "{'spreadsheetId': '1TtHeI37BDPFgEYo7w0YOntfnrq9hZYYCMTg1ao_-lF8',\n",
              " 'updatedRange': 'Processed_Data!A1:H8',\n",
              " 'updatedRows': 8,\n",
              " 'updatedColumns': 8,\n",
              " 'updatedCells': 64}"
            ]
          },
          "metadata": {},
          "execution_count": 16
        }
      ]
    },
    {
      "cell_type": "markdown",
      "source": [
        "export table temp\n"
      ],
      "metadata": {
        "id": "dBS8m1p0A8Yi"
      }
    },
    {
      "cell_type": "code",
      "source": [
        "# Melt the dataframe to long format\n",
        "df_melted = df.melt(id_vars='Factor', value_vars=['A', 'B', 'C', 'D', 'E', 'F'], var_name='Location', value_name='Score')\n",
        "\n",
        "# Join the melted dataframe with the original dataframe to get the weights\n",
        "df_joined = df_melted.merge(df[['Factor', 'weight']], on='Factor')\n",
        "\n",
        "# Calculate the weighted sum of the scores for each location\n",
        "df_weighted_sum = df_joined.groupby('Location').apply(lambda x: (x['Score'] * x['weight']).sum()).reset_index(name='Weighted Sum')\n",
        "\n",
        "# Calculate the sum of the weights for each location\n",
        "df_weight_sum = df_joined.groupby('Location')['weight'].sum().reset_index(name='Weight Sum')\n",
        "\n",
        "# Join the two dataframes\n",
        "df_joined = df_weighted_sum.merge(df_weight_sum, on='Location')\n",
        "\n",
        "# Calculate the weighted average of the scores for each location\n",
        "df_joined['Weighted Average'] = df_joined['Weighted Sum'] / df_joined['Weight Sum']\n",
        "\n",
        "# Sort the dataframe in descending order of the weighted averages\n",
        "df_result = df_joined[['Location', 'Weighted Average']].sort_values(by='Weighted Average', ascending=False)\n",
        "\n",
        "# Print the resulting dataframe\n",
        "print(df_result.to_markdown(index=False, numalign=\"left\", stralign=\"left\"))"
      ],
      "outputs": [
        {
          "output_type": "stream",
          "name": "stdout",
          "text": [
            "| Location   | Weighted Average   |\n",
            "|:-----------|:-------------------|\n",
            "| F          | 7.4                |\n",
            "| A          | 7.3                |\n",
            "| E          | 6.4                |\n",
            "| B          | 6.3                |\n",
            "| C          | 6.1                |\n",
            "| D          | 5.9                |\n"
          ]
        },
        {
          "output_type": "stream",
          "name": "stderr",
          "text": [
            "<ipython-input-9-56d9d3aaece0>:8: DeprecationWarning: DataFrameGroupBy.apply operated on the grouping columns. This behavior is deprecated, and in a future version of pandas the grouping columns will be excluded from the operation. Either pass `include_groups=False` to exclude the groupings or explicitly select the grouping columns after groupby to silence this warning.\n",
            "  df_weighted_sum = df_joined.groupby('Location').apply(lambda x: (x['Score'] * x['weight']).sum()).reset_index(name='Weighted Sum')\n"
          ]
        }
      ],
      "execution_count": null,
      "metadata": {
        "colab": {
          "base_uri": "https://localhost:8080/"
        },
        "id": "L5dZqrYsYVoI",
        "outputId": "02d78704-8f04-4026-916e-d39adf1d7b69"
      }
    },
    {
      "cell_type": "code",
      "source": [
        "# prompt: please write a code writing df into google sheet new worksheet\n",
        "\n",
        "# ... (Your existing code)\n",
        "\n",
        "# Create a new worksheet\n",
        "new_worksheet = sh.add_worksheet(title=\"Table 3\", rows=\"100\", cols=\"20\")\n",
        "\n",
        "# Write the DataFrame to the new worksheet\n",
        "new_worksheet.update([df_result.columns.values.tolist()] + df_result.values.tolist())\n"
      ],
      "metadata": {
        "colab": {
          "base_uri": "https://localhost:8080/"
        },
        "outputId": "3fed2046-8880-46aa-86b8-2f1aa0de843e",
        "id": "cPS8esBxEm9C"
      },
      "execution_count": null,
      "outputs": [
        {
          "output_type": "execute_result",
          "data": {
            "text/plain": [
              "{'spreadsheetId': '1TtHeI37BDPFgEYo7w0YOntfnrq9hZYYCMTg1ao_-lF8',\n",
              " 'updatedRange': \"'Table 3'!A1:B7\",\n",
              " 'updatedRows': 7,\n",
              " 'updatedColumns': 2,\n",
              " 'updatedCells': 14}"
            ]
          },
          "metadata": {},
          "execution_count": 17
        }
      ]
    },
    {
      "cell_type": "code",
      "source": [],
      "metadata": {
        "id": "HpWkrKBaEZId"
      },
      "execution_count": null,
      "outputs": []
    },
    {
      "cell_type": "markdown",
      "source": [
        "ggg\n"
      ],
      "metadata": {
        "id": "VW2lqqxDdIvo"
      }
    },
    {
      "cell_type": "markdown",
      "source": [],
      "metadata": {
        "id": "gUwI7NCfqlOl"
      }
    },
    {
      "source": [
        "# Melt the dataframe to long format\n",
        "df_melted = df.melt(id_vars='Factor', value_vars=['A', 'B', 'C', 'D', 'E', 'F'], var_name='Location', value_name='Score')\n",
        "print(df_melted.head(100))\n",
        "\n",
        "# Join the melted dataframe with the original dataframe to get the weights\n",
        "df_joined = df_melted.merge(df[['Factor', 'weight']], on='Factor')\n",
        "print(df_joined.head(100))\n",
        "# Ensure 'Score' and 'weight' columns are numeric\n",
        "df_joined['Score'] = pd.to_numeric(df_joined['Score'], errors='coerce') # Convert 'Score' to numeric, replacing non-numeric with NaN\n",
        "df_joined['weight'] = pd.to_numeric(df_joined['weight'], errors='coerce') # Convert 'weight' to numeric, replacing non-numeric with NaN\n",
        "print(df_joined.head(100))\n",
        "# Calculate the weighted sum of the scores for each location\n",
        "df_weighted_sum = df_joined.groupby('Location').apply(lambda x: (x['Score'] * x['weight']).sum()).reset_index(name='Weighted Sum')\n",
        "print(df_weighted_sum.head(100))\n",
        "\n",
        "# Calculate the sum of the weights for each location\n",
        "df_weight_sum = df_joined.groupby('Location')['weight'].sum().reset_index(name='Weight Sum')\n",
        "print(df_weight_sum.head(100))\n",
        "# Join the two dataframes\n",
        "df_joined = df_weighted_sum.merge(df_weight_sum, on='Location')\n",
        "print(df_joined.head(100))\n",
        "\n",
        "# Calculate the weighted average of the scores for each location\n",
        "df_joined['Weighted Average'] = df_joined['Weighted Sum'] / df_joined['Weight Sum']\n",
        "print(df_joined.head(100))\n",
        "# Sort the dataframe in descending order of the weighted averages\n",
        "df_result = df_joined[['Location', 'Weighted Average']].sort_values(by='Weighted Average', ascending=False)\n",
        "print(df_result.head(100))\n",
        "#\n",
        "# Print the resulting dataframe\n",
        "print(df_result.to_markdown(index=False, numalign=\"left\", stralign=\"left\"))"
      ],
      "cell_type": "code",
      "metadata": {
        "colab": {
          "base_uri": "https://localhost:8080/"
        },
        "id": "fjAK6mG2qnid",
        "outputId": "f156559a-5cf5-4ee0-f189-ab99a6826d81"
      },
      "execution_count": null,
      "outputs": [
        {
          "output_type": "stream",
          "name": "stdout",
          "text": [
            "                   Factor Location  Score\n",
            "0         Quality of life        A     10\n",
            "1         Labor relations        A      6\n",
            "2           State support        A      8\n",
            "3          School systems        A      4\n",
            "4   Distance to consumers        A      8\n",
            "5   Distance to suppliers        A      2\n",
            "6        Investment funds        A      8\n",
            "7         Quality of life        B      4\n",
            "8         Labor relations        B      4\n",
            "9           State support        B      6\n",
            "10         School systems        B     10\n",
            "11  Distance to consumers        B     10\n",
            "12  Distance to suppliers        B      6\n",
            "13       Investment funds        B      6\n",
            "14        Quality of life        C      6\n",
            "15        Labor relations        C     10\n",
            "16          State support        C      2\n",
            "17         School systems        C      6\n",
            "18  Distance to consumers        C      8\n",
            "19  Distance to suppliers        C      8\n",
            "20       Investment funds        C      4\n",
            "21        Quality of life        D      8\n",
            "22        Labor relations        D     10\n",
            "23          State support        D      4\n",
            "24         School systems        D      2\n",
            "25  Distance to consumers        D      6\n",
            "26  Distance to suppliers        D     10\n",
            "27       Investment funds        D      2\n",
            "28        Quality of life        E      8\n",
            "29        Labor relations        E      6\n",
            "30          State support        E      2\n",
            "31         School systems        E      4\n",
            "32  Distance to consumers        E      4\n",
            "33  Distance to suppliers        E      8\n",
            "34       Investment funds        E      9\n",
            "35        Quality of life        F      6\n",
            "36        Labor relations        F      8\n",
            "37          State support        F      8\n",
            "38         School systems        F      2\n",
            "39  Distance to consumers        F     10\n",
            "40  Distance to suppliers        F      6\n",
            "41       Investment funds        F     10\n",
            "                   Factor Location  Score  weight\n",
            "0         Quality of life        A     10      25\n",
            "1         Labor relations        A      6      10\n",
            "2           State support        A      8      10\n",
            "3          School systems        A      4      10\n",
            "4   Distance to consumers        A      8      15\n",
            "5   Distance to suppliers        A      2      10\n",
            "6        Investment funds        A      8      20\n",
            "7         Quality of life        B      4      25\n",
            "8         Labor relations        B      4      10\n",
            "9           State support        B      6      10\n",
            "10         School systems        B     10      10\n",
            "11  Distance to consumers        B     10      15\n",
            "12  Distance to suppliers        B      6      10\n",
            "13       Investment funds        B      6      20\n",
            "14        Quality of life        C      6      25\n",
            "15        Labor relations        C     10      10\n",
            "16          State support        C      2      10\n",
            "17         School systems        C      6      10\n",
            "18  Distance to consumers        C      8      15\n",
            "19  Distance to suppliers        C      8      10\n",
            "20       Investment funds        C      4      20\n",
            "21        Quality of life        D      8      25\n",
            "22        Labor relations        D     10      10\n",
            "23          State support        D      4      10\n",
            "24         School systems        D      2      10\n",
            "25  Distance to consumers        D      6      15\n",
            "26  Distance to suppliers        D     10      10\n",
            "27       Investment funds        D      2      20\n",
            "28        Quality of life        E      8      25\n",
            "29        Labor relations        E      6      10\n",
            "30          State support        E      2      10\n",
            "31         School systems        E      4      10\n",
            "32  Distance to consumers        E      4      15\n",
            "33  Distance to suppliers        E      8      10\n",
            "34       Investment funds        E      9      20\n",
            "35        Quality of life        F      6      25\n",
            "36        Labor relations        F      8      10\n",
            "37          State support        F      8      10\n",
            "38         School systems        F      2      10\n",
            "39  Distance to consumers        F     10      15\n",
            "40  Distance to suppliers        F      6      10\n",
            "41       Investment funds        F     10      20\n",
            "                   Factor Location  Score  weight\n",
            "0         Quality of life        A     10      25\n",
            "1         Labor relations        A      6      10\n",
            "2           State support        A      8      10\n",
            "3          School systems        A      4      10\n",
            "4   Distance to consumers        A      8      15\n",
            "5   Distance to suppliers        A      2      10\n",
            "6        Investment funds        A      8      20\n",
            "7         Quality of life        B      4      25\n",
            "8         Labor relations        B      4      10\n",
            "9           State support        B      6      10\n",
            "10         School systems        B     10      10\n",
            "11  Distance to consumers        B     10      15\n",
            "12  Distance to suppliers        B      6      10\n",
            "13       Investment funds        B      6      20\n",
            "14        Quality of life        C      6      25\n",
            "15        Labor relations        C     10      10\n",
            "16          State support        C      2      10\n",
            "17         School systems        C      6      10\n",
            "18  Distance to consumers        C      8      15\n",
            "19  Distance to suppliers        C      8      10\n",
            "20       Investment funds        C      4      20\n",
            "21        Quality of life        D      8      25\n",
            "22        Labor relations        D     10      10\n",
            "23          State support        D      4      10\n",
            "24         School systems        D      2      10\n",
            "25  Distance to consumers        D      6      15\n",
            "26  Distance to suppliers        D     10      10\n",
            "27       Investment funds        D      2      20\n",
            "28        Quality of life        E      8      25\n",
            "29        Labor relations        E      6      10\n",
            "30          State support        E      2      10\n",
            "31         School systems        E      4      10\n",
            "32  Distance to consumers        E      4      15\n",
            "33  Distance to suppliers        E      8      10\n",
            "34       Investment funds        E      9      20\n",
            "35        Quality of life        F      6      25\n",
            "36        Labor relations        F      8      10\n",
            "37          State support        F      8      10\n",
            "38         School systems        F      2      10\n",
            "39  Distance to consumers        F     10      15\n",
            "40  Distance to suppliers        F      6      10\n",
            "41       Investment funds        F     10      20\n",
            "  Location  Weighted Sum\n",
            "0        A           730\n",
            "1        B           630\n",
            "2        C           610\n",
            "3        D           590\n",
            "4        E           640\n",
            "5        F           740\n",
            "  Location  Weight Sum\n",
            "0        A         100\n",
            "1        B         100\n",
            "2        C         100\n",
            "3        D         100\n",
            "4        E         100\n",
            "5        F         100\n",
            "  Location  Weighted Sum  Weight Sum\n",
            "0        A           730         100\n",
            "1        B           630         100\n",
            "2        C           610         100\n",
            "3        D           590         100\n",
            "4        E           640         100\n",
            "5        F           740         100\n",
            "  Location  Weighted Sum  Weight Sum  Weighted Average\n",
            "0        A           730         100               7.3\n",
            "1        B           630         100               6.3\n",
            "2        C           610         100               6.1\n",
            "3        D           590         100               5.9\n",
            "4        E           640         100               6.4\n",
            "5        F           740         100               7.4\n",
            "  Location  Weighted Average\n",
            "5        F               7.4\n",
            "0        A               7.3\n",
            "4        E               6.4\n",
            "1        B               6.3\n",
            "2        C               6.1\n",
            "3        D               5.9\n",
            "| Location   | Weighted Average   |\n",
            "|:-----------|:-------------------|\n",
            "| F          | 7.4                |\n",
            "| A          | 7.3                |\n",
            "| E          | 6.4                |\n",
            "| B          | 6.3                |\n",
            "| C          | 6.1                |\n",
            "| D          | 5.9                |\n"
          ]
        },
        {
          "output_type": "stream",
          "name": "stderr",
          "text": [
            "<ipython-input-15-627ce6760e58>:13: DeprecationWarning: DataFrameGroupBy.apply operated on the grouping columns. This behavior is deprecated, and in a future version of pandas the grouping columns will be excluded from the operation. Either pass `include_groups=False` to exclude the groupings or explicitly select the grouping columns after groupby to silence this warning.\n",
            "  df_weighted_sum = df_joined.groupby('Location').apply(lambda x: (x['Score'] * x['weight']).sum()).reset_index(name='Weighted Sum')\n"
          ]
        }
      ]
    }
  ],
  "metadata": {
    "colab": {
      "provenance": [],
      "include_colab_link": true
    },
    "kernelspec": {
      "display_name": "Python 3",
      "name": "python3"
    }
  },
  "nbformat": 4,
  "nbformat_minor": 0
}